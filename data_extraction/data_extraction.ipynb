{
 "cells": [
  {
   "cell_type": "markdown",
   "metadata": {},
   "source": [
    "# **Data extraction and processing**"
   ]
  },
  {
   "cell_type": "markdown",
   "metadata": {},
   "source": [
    "### To view the accesses allowed for web-scraping\n",
    "[Acces for web scraping (titanicfacts.net by 2024 Dave Fowler) ](https://titanicfacts.net/robots.txt)"
   ]
  },
  {
   "cell_type": "markdown",
   "metadata": {},
   "source": [
    "Install the libraries:"
   ]
  },
  {
   "cell_type": "code",
   "execution_count": 34,
   "metadata": {},
   "outputs": [],
   "source": [
    "# %pip install pandas numpy unidecode"
   ]
  },
  {
   "cell_type": "code",
   "execution_count": 35,
   "metadata": {},
   "outputs": [],
   "source": [
    "import pandas as pd\n",
    "import re\n",
    "import numpy as np\n",
    "from unidecode import unidecode\n",
    "pd.options.mode.copy_on_write = True \n",
    "URL = 'https://titanicfacts.net/titanic-passenger-list/'\n",
    "dfs = pd.read_html(URL)"
   ]
  },
  {
   "cell_type": "code",
   "execution_count": 36,
   "metadata": {},
   "outputs": [
    {
     "data": {
      "text/plain": [
       "3"
      ]
     },
     "execution_count": 36,
     "metadata": {},
     "output_type": "execute_result"
    }
   ],
   "source": [
    "len(dfs)"
   ]
  },
  {
   "cell_type": "markdown",
   "metadata": {},
   "source": [
    "### Columns of interest with their descriptions."
   ]
  },
  {
   "cell_type": "markdown",
   "metadata": {},
   "source": [
    "| **Column** | **Description**                                           |\n",
    "| ---------- | --------------------------------------------------------- |\n",
    "| Survived   | person survived the titanic tragedy (0 - \"NO\", 1- \"YES\" ) |\n",
    "| Sex        | the gender (female, male)                                 |\n",
    "| Name       | the name                                                  |\n",
    "| Age        | Age in years                                              |\n",
    "| SibSp      | # of siblings/wife or husband on board                    |\n",
    "| Parch      | # of parents / children on board                          |\n",
    "| Pclass     | The ticket class (1 = \"1st\", 2 = \"2nd\", 3 = \"3rd\")        |"
   ]
  },
  {
   "cell_type": "code",
   "execution_count": 37,
   "metadata": {},
   "outputs": [
    {
     "data": {
      "text/html": [
       "<div>\n",
       "<style scoped>\n",
       "    .dataframe tbody tr th:only-of-type {\n",
       "        vertical-align: middle;\n",
       "    }\n",
       "\n",
       "    .dataframe tbody tr th {\n",
       "        vertical-align: top;\n",
       "    }\n",
       "\n",
       "    .dataframe thead th {\n",
       "        text-align: right;\n",
       "    }\n",
       "</style>\n",
       "<table border=\"1\" class=\"dataframe\">\n",
       "  <thead>\n",
       "    <tr style=\"text-align: right;\">\n",
       "      <th></th>\n",
       "      <th>0</th>\n",
       "      <th>1</th>\n",
       "      <th>2</th>\n",
       "      <th>3</th>\n",
       "      <th>4</th>\n",
       "    </tr>\n",
       "  </thead>\n",
       "  <tbody>\n",
       "    <tr>\n",
       "      <th>0</th>\n",
       "      <td>Surname</td>\n",
       "      <td>First Names</td>\n",
       "      <td>Age</td>\n",
       "      <td>Boarded</td>\n",
       "      <td>Survivor (S) or Victim (†)</td>\n",
       "    </tr>\n",
       "    <tr>\n",
       "      <th>1</th>\n",
       "      <td>Allen</td>\n",
       "      <td>Miss Elisabeth Walton</td>\n",
       "      <td>29</td>\n",
       "      <td>Southampton</td>\n",
       "      <td>S</td>\n",
       "    </tr>\n",
       "    <tr>\n",
       "      <th>2</th>\n",
       "      <td>Allison</td>\n",
       "      <td>Mr Hudson Joshua Creighton</td>\n",
       "      <td>30</td>\n",
       "      <td>Southampton</td>\n",
       "      <td>†</td>\n",
       "    </tr>\n",
       "    <tr>\n",
       "      <th>3</th>\n",
       "      <td>Allison</td>\n",
       "      <td>Mrs Bessie Waldo</td>\n",
       "      <td>25</td>\n",
       "      <td>Southampton</td>\n",
       "      <td>†</td>\n",
       "    </tr>\n",
       "    <tr>\n",
       "      <th>4</th>\n",
       "      <td>Allison</td>\n",
       "      <td>Miss Helen Loraine</td>\n",
       "      <td>2</td>\n",
       "      <td>Southampton</td>\n",
       "      <td>†</td>\n",
       "    </tr>\n",
       "  </tbody>\n",
       "</table>\n",
       "</div>"
      ],
      "text/plain": [
       "         0                           1    2            3  \\\n",
       "0  Surname                 First Names  Age      Boarded   \n",
       "1    Allen       Miss Elisabeth Walton   29  Southampton   \n",
       "2  Allison  Mr Hudson Joshua Creighton   30  Southampton   \n",
       "3  Allison            Mrs Bessie Waldo   25  Southampton   \n",
       "4  Allison          Miss Helen Loraine    2  Southampton   \n",
       "\n",
       "                            4  \n",
       "0  Survivor (S) or Victim (†)  \n",
       "1                           S  \n",
       "2                           †  \n",
       "3                           †  \n",
       "4                           †  "
      ]
     },
     "execution_count": 37,
     "metadata": {},
     "output_type": "execute_result"
    }
   ],
   "source": [
    "dfs[0].head()"
   ]
  },
  {
   "cell_type": "markdown",
   "metadata": {},
   "source": [
    "### Data extraction from the web site"
   ]
  },
  {
   "cell_type": "code",
   "execution_count": 38,
   "metadata": {},
   "outputs": [],
   "source": [
    "FIRST_ROW_OF_DF=0\n",
    "TICKET_CLASS_COLUMN=\"Pclass\"\n",
    "SELECTED_COLUMNS_DEL_SITE_WEB_COLUMNS=[\"Surname\", \"First Names\", \"Age\", \"Pclass\"]\n",
    "\n",
    "\n",
    "def set_columns_of_row(df,row):\n",
    "    new_columns=df.iloc[row]\n",
    "    df.columns=new_columns\n",
    "\n",
    "def delete_row(df,row_to_drop):\n",
    "    df.drop(row_to_drop,inplace=True)\n",
    "\n",
    "def add_columns_class_ticket(df,ticket_class):\n",
    "    df[TICKET_CLASS_COLUMN]=ticket_class\n",
    "\n",
    "\n",
    "def get_dataframe(df,ticket_class):\n",
    "    set_columns_of_row(df,FIRST_ROW_OF_DF)\n",
    "    delete_row(df,FIRST_ROW_OF_DF)\n",
    "    add_columns_class_ticket(df,ticket_class)\n",
    "    return df[SELECTED_COLUMNS_DEL_SITE_WEB_COLUMNS]\n"
   ]
  },
  {
   "cell_type": "code",
   "execution_count": 39,
   "metadata": {},
   "outputs": [],
   "source": [
    "dfs=[get_dataframe(df,ticket_class+1) for ticket_class,df in enumerate(dfs)]\n",
    "website_df=pd.concat(dfs)\n",
    "website_df.reset_index(inplace=True,drop=True)\n"
   ]
  },
  {
   "cell_type": "code",
   "execution_count": 40,
   "metadata": {},
   "outputs": [
    {
     "data": {
      "text/html": [
       "<div>\n",
       "<style scoped>\n",
       "    .dataframe tbody tr th:only-of-type {\n",
       "        vertical-align: middle;\n",
       "    }\n",
       "\n",
       "    .dataframe tbody tr th {\n",
       "        vertical-align: top;\n",
       "    }\n",
       "\n",
       "    .dataframe thead th {\n",
       "        text-align: right;\n",
       "    }\n",
       "</style>\n",
       "<table border=\"1\" class=\"dataframe\">\n",
       "  <thead>\n",
       "    <tr style=\"text-align: right;\">\n",
       "      <th></th>\n",
       "      <th>Surname</th>\n",
       "      <th>First Names</th>\n",
       "      <th>Age</th>\n",
       "      <th>Pclass</th>\n",
       "    </tr>\n",
       "  </thead>\n",
       "  <tbody>\n",
       "    <tr>\n",
       "      <th>0</th>\n",
       "      <td>Allen</td>\n",
       "      <td>Miss Elisabeth Walton</td>\n",
       "      <td>29</td>\n",
       "      <td>1</td>\n",
       "    </tr>\n",
       "    <tr>\n",
       "      <th>1</th>\n",
       "      <td>Allison</td>\n",
       "      <td>Mr Hudson Joshua Creighton</td>\n",
       "      <td>30</td>\n",
       "      <td>1</td>\n",
       "    </tr>\n",
       "    <tr>\n",
       "      <th>2</th>\n",
       "      <td>Allison</td>\n",
       "      <td>Mrs Bessie Waldo</td>\n",
       "      <td>25</td>\n",
       "      <td>1</td>\n",
       "    </tr>\n",
       "    <tr>\n",
       "      <th>3</th>\n",
       "      <td>Allison</td>\n",
       "      <td>Miss Helen Loraine</td>\n",
       "      <td>2</td>\n",
       "      <td>1</td>\n",
       "    </tr>\n",
       "    <tr>\n",
       "      <th>4</th>\n",
       "      <td>Allison</td>\n",
       "      <td>Master Hudson Trevor</td>\n",
       "      <td>11m</td>\n",
       "      <td>1</td>\n",
       "    </tr>\n",
       "  </tbody>\n",
       "</table>\n",
       "</div>"
      ],
      "text/plain": [
       "0  Surname                 First Names  Age  Pclass\n",
       "0    Allen       Miss Elisabeth Walton   29       1\n",
       "1  Allison  Mr Hudson Joshua Creighton   30       1\n",
       "2  Allison            Mrs Bessie Waldo   25       1\n",
       "3  Allison          Miss Helen Loraine    2       1\n",
       "4  Allison        Master Hudson Trevor  11m       1"
      ]
     },
     "execution_count": 40,
     "metadata": {},
     "output_type": "execute_result"
    }
   ],
   "source": [
    "website_df.head()"
   ]
  },
  {
   "cell_type": "code",
   "execution_count": 41,
   "metadata": {},
   "outputs": [
    {
     "name": "stdout",
     "output_type": "stream",
     "text": [
      "<class 'pandas.core.frame.DataFrame'>\n",
      "RangeIndex: 1317 entries, 0 to 1316\n",
      "Data columns (total 4 columns):\n",
      " #   Column       Non-Null Count  Dtype \n",
      "---  ------       --------------  ----- \n",
      " 0   Surname      1317 non-null   object\n",
      " 1   First Names  1317 non-null   object\n",
      " 2   Age          1317 non-null   object\n",
      " 3   Pclass       1317 non-null   int64 \n",
      "dtypes: int64(1), object(3)\n",
      "memory usage: 41.3+ KB\n"
     ]
    }
   ],
   "source": [
    "website_df.info()"
   ]
  },
  {
   "cell_type": "markdown",
   "metadata": {},
   "source": [
    "### Reading csv data"
   ]
  },
  {
   "cell_type": "code",
   "execution_count": 42,
   "metadata": {},
   "outputs": [],
   "source": [
    "csv_df=pd.read_csv(\"titanic_final_project.csv\")"
   ]
  },
  {
   "cell_type": "code",
   "execution_count": 43,
   "metadata": {},
   "outputs": [
    {
     "data": {
      "text/html": [
       "<div>\n",
       "<style scoped>\n",
       "    .dataframe tbody tr th:only-of-type {\n",
       "        vertical-align: middle;\n",
       "    }\n",
       "\n",
       "    .dataframe tbody tr th {\n",
       "        vertical-align: top;\n",
       "    }\n",
       "\n",
       "    .dataframe thead th {\n",
       "        text-align: right;\n",
       "    }\n",
       "</style>\n",
       "<table border=\"1\" class=\"dataframe\">\n",
       "  <thead>\n",
       "    <tr style=\"text-align: right;\">\n",
       "      <th></th>\n",
       "      <th>Survived</th>\n",
       "      <th>Name</th>\n",
       "      <th>Sex</th>\n",
       "      <th>Age</th>\n",
       "      <th>SibSp</th>\n",
       "      <th>Parch</th>\n",
       "      <th>Embarked</th>\n",
       "    </tr>\n",
       "  </thead>\n",
       "  <tbody>\n",
       "    <tr>\n",
       "      <th>0</th>\n",
       "      <td>0</td>\n",
       "      <td>Braund, Mr. Owen Harris</td>\n",
       "      <td>male</td>\n",
       "      <td>22.0</td>\n",
       "      <td>1</td>\n",
       "      <td>0</td>\n",
       "      <td>S</td>\n",
       "    </tr>\n",
       "    <tr>\n",
       "      <th>1</th>\n",
       "      <td>1</td>\n",
       "      <td>Cumings, Mrs. John Bradley (Florence Briggs Th...</td>\n",
       "      <td>female</td>\n",
       "      <td>38.0</td>\n",
       "      <td>1</td>\n",
       "      <td>0</td>\n",
       "      <td>C</td>\n",
       "    </tr>\n",
       "    <tr>\n",
       "      <th>2</th>\n",
       "      <td>1</td>\n",
       "      <td>Heikkinen, Miss. Laina</td>\n",
       "      <td>female</td>\n",
       "      <td>26.0</td>\n",
       "      <td>0</td>\n",
       "      <td>0</td>\n",
       "      <td>S</td>\n",
       "    </tr>\n",
       "    <tr>\n",
       "      <th>3</th>\n",
       "      <td>1</td>\n",
       "      <td>Futrelle, Mrs. Jacques Heath (Lily May Peel)</td>\n",
       "      <td>female</td>\n",
       "      <td>35.0</td>\n",
       "      <td>1</td>\n",
       "      <td>0</td>\n",
       "      <td>S</td>\n",
       "    </tr>\n",
       "    <tr>\n",
       "      <th>4</th>\n",
       "      <td>0</td>\n",
       "      <td>Allen, Mr. William Henry</td>\n",
       "      <td>male</td>\n",
       "      <td>35.0</td>\n",
       "      <td>0</td>\n",
       "      <td>0</td>\n",
       "      <td>S</td>\n",
       "    </tr>\n",
       "  </tbody>\n",
       "</table>\n",
       "</div>"
      ],
      "text/plain": [
       "   Survived                                               Name     Sex   Age  \\\n",
       "0         0                            Braund, Mr. Owen Harris    male  22.0   \n",
       "1         1  Cumings, Mrs. John Bradley (Florence Briggs Th...  female  38.0   \n",
       "2         1                             Heikkinen, Miss. Laina  female  26.0   \n",
       "3         1       Futrelle, Mrs. Jacques Heath (Lily May Peel)  female  35.0   \n",
       "4         0                           Allen, Mr. William Henry    male  35.0   \n",
       "\n",
       "   SibSp  Parch Embarked  \n",
       "0      1      0        S  \n",
       "1      1      0        C  \n",
       "2      0      0        S  \n",
       "3      1      0        S  \n",
       "4      0      0        S  "
      ]
     },
     "execution_count": 43,
     "metadata": {},
     "output_type": "execute_result"
    }
   ],
   "source": [
    "csv_df.head()"
   ]
  },
  {
   "cell_type": "code",
   "execution_count": 44,
   "metadata": {},
   "outputs": [
    {
     "name": "stdout",
     "output_type": "stream",
     "text": [
      "<class 'pandas.core.frame.DataFrame'>\n",
      "RangeIndex: 891 entries, 0 to 890\n",
      "Data columns (total 7 columns):\n",
      " #   Column    Non-Null Count  Dtype  \n",
      "---  ------    --------------  -----  \n",
      " 0   Survived  891 non-null    int64  \n",
      " 1   Name      891 non-null    object \n",
      " 2   Sex       891 non-null    object \n",
      " 3   Age       714 non-null    float64\n",
      " 4   SibSp     891 non-null    int64  \n",
      " 5   Parch     891 non-null    int64  \n",
      " 6   Embarked  889 non-null    object \n",
      "dtypes: float64(1), int64(3), object(3)\n",
      "memory usage: 48.9+ KB\n"
     ]
    }
   ],
   "source": [
    "csv_df.info()"
   ]
  },
  {
   "cell_type": "markdown",
   "metadata": {},
   "source": [
    "Matching techniques:\n",
    "1. Matching by surname and age, contemplating that there are no persons with the same surname and age.\n",
    "2. Matching by full name using a set technique.\n",
    "3. Match special cases manually."
   ]
  },
  {
   "cell_type": "markdown",
   "metadata": {},
   "source": [
    "### Data cleaning"
   ]
  },
  {
   "cell_type": "markdown",
   "metadata": {},
   "source": [
    "The last name is separated from the first name of the passenger in the csv_df."
   ]
  },
  {
   "cell_type": "code",
   "execution_count": 45,
   "metadata": {},
   "outputs": [],
   "source": [
    "def extract_surname_and_first_name(full_name):\n",
    "    separated_first_name = full_name.split(\",\")\n",
    "    last_name = separated_first_name[0].strip().lower()\n",
    "    first_name = separated_first_name[1].strip().lower()\n",
    "    return last_name, first_name\n",
    "\n",
    "def get_last_name_and_first_name(row):\n",
    "    last_name, first_name = extract_surname_and_first_name(row[\"Name\"])\n",
    "    row[\"Surname\"] = last_name\n",
    "    row[\"Name\"] = first_name\n",
    "    return row\n",
    "\n",
    "csv_df=csv_df.apply(get_last_name_and_first_name,axis='columns')"
   ]
  },
  {
   "cell_type": "code",
   "execution_count": 46,
   "metadata": {},
   "outputs": [
    {
     "data": {
      "text/html": [
       "<div>\n",
       "<style scoped>\n",
       "    .dataframe tbody tr th:only-of-type {\n",
       "        vertical-align: middle;\n",
       "    }\n",
       "\n",
       "    .dataframe tbody tr th {\n",
       "        vertical-align: top;\n",
       "    }\n",
       "\n",
       "    .dataframe thead th {\n",
       "        text-align: right;\n",
       "    }\n",
       "</style>\n",
       "<table border=\"1\" class=\"dataframe\">\n",
       "  <thead>\n",
       "    <tr style=\"text-align: right;\">\n",
       "      <th></th>\n",
       "      <th>Survived</th>\n",
       "      <th>Name</th>\n",
       "      <th>Sex</th>\n",
       "      <th>Age</th>\n",
       "      <th>SibSp</th>\n",
       "      <th>Parch</th>\n",
       "      <th>Embarked</th>\n",
       "      <th>Surname</th>\n",
       "    </tr>\n",
       "  </thead>\n",
       "  <tbody>\n",
       "    <tr>\n",
       "      <th>0</th>\n",
       "      <td>0</td>\n",
       "      <td>mr. owen harris</td>\n",
       "      <td>male</td>\n",
       "      <td>22.0</td>\n",
       "      <td>1</td>\n",
       "      <td>0</td>\n",
       "      <td>S</td>\n",
       "      <td>braund</td>\n",
       "    </tr>\n",
       "    <tr>\n",
       "      <th>1</th>\n",
       "      <td>1</td>\n",
       "      <td>mrs. john bradley (florence briggs thayer)</td>\n",
       "      <td>female</td>\n",
       "      <td>38.0</td>\n",
       "      <td>1</td>\n",
       "      <td>0</td>\n",
       "      <td>C</td>\n",
       "      <td>cumings</td>\n",
       "    </tr>\n",
       "    <tr>\n",
       "      <th>2</th>\n",
       "      <td>1</td>\n",
       "      <td>miss. laina</td>\n",
       "      <td>female</td>\n",
       "      <td>26.0</td>\n",
       "      <td>0</td>\n",
       "      <td>0</td>\n",
       "      <td>S</td>\n",
       "      <td>heikkinen</td>\n",
       "    </tr>\n",
       "    <tr>\n",
       "      <th>3</th>\n",
       "      <td>1</td>\n",
       "      <td>mrs. jacques heath (lily may peel)</td>\n",
       "      <td>female</td>\n",
       "      <td>35.0</td>\n",
       "      <td>1</td>\n",
       "      <td>0</td>\n",
       "      <td>S</td>\n",
       "      <td>futrelle</td>\n",
       "    </tr>\n",
       "    <tr>\n",
       "      <th>4</th>\n",
       "      <td>0</td>\n",
       "      <td>mr. william henry</td>\n",
       "      <td>male</td>\n",
       "      <td>35.0</td>\n",
       "      <td>0</td>\n",
       "      <td>0</td>\n",
       "      <td>S</td>\n",
       "      <td>allen</td>\n",
       "    </tr>\n",
       "  </tbody>\n",
       "</table>\n",
       "</div>"
      ],
      "text/plain": [
       "   Survived                                        Name     Sex   Age  SibSp  \\\n",
       "0         0                             mr. owen harris    male  22.0      1   \n",
       "1         1  mrs. john bradley (florence briggs thayer)  female  38.0      1   \n",
       "2         1                                 miss. laina  female  26.0      0   \n",
       "3         1          mrs. jacques heath (lily may peel)  female  35.0      1   \n",
       "4         0                           mr. william henry    male  35.0      0   \n",
       "\n",
       "   Parch Embarked    Surname  \n",
       "0      0        S     braund  \n",
       "1      0        C    cumings  \n",
       "2      0        S  heikkinen  \n",
       "3      0        S   futrelle  \n",
       "4      0        S      allen  "
      ]
     },
     "execution_count": 46,
     "metadata": {},
     "output_type": "execute_result"
    }
   ],
   "source": [
    "csv_df.head() "
   ]
  },
  {
   "cell_type": "markdown",
   "metadata": {},
   "source": [
    "There are people with surnames and names with special characters in the website dataframe."
   ]
  },
  {
   "cell_type": "code",
   "execution_count": 47,
   "metadata": {},
   "outputs": [
    {
     "data": {
      "text/html": [
       "<div>\n",
       "<style scoped>\n",
       "    .dataframe tbody tr th:only-of-type {\n",
       "        vertical-align: middle;\n",
       "    }\n",
       "\n",
       "    .dataframe tbody tr th {\n",
       "        vertical-align: top;\n",
       "    }\n",
       "\n",
       "    .dataframe thead th {\n",
       "        text-align: right;\n",
       "    }\n",
       "</style>\n",
       "<table border=\"1\" class=\"dataframe\">\n",
       "  <thead>\n",
       "    <tr style=\"text-align: right;\">\n",
       "      <th></th>\n",
       "      <th>Surname</th>\n",
       "      <th>First Names</th>\n",
       "      <th>Age</th>\n",
       "      <th>Pclass</th>\n",
       "    </tr>\n",
       "  </thead>\n",
       "  <tbody>\n",
       "    <tr>\n",
       "      <th>623</th>\n",
       "      <td>Alhomäki</td>\n",
       "      <td>Mr Ilmari Rudolf</td>\n",
       "      <td>19</td>\n",
       "      <td>3</td>\n",
       "    </tr>\n",
       "  </tbody>\n",
       "</table>\n",
       "</div>"
      ],
      "text/plain": [
       "0     Surname       First Names Age  Pclass\n",
       "623  Alhomäki  Mr Ilmari Rudolf  19       3"
      ]
     },
     "execution_count": 47,
     "metadata": {},
     "output_type": "execute_result"
    }
   ],
   "source": [
    "website_df[website_df[\"Surname\"]==\"Alhomäki\"]"
   ]
  },
  {
   "cell_type": "code",
   "execution_count": 48,
   "metadata": {},
   "outputs": [
    {
     "data": {
      "text/html": [
       "<div>\n",
       "<style scoped>\n",
       "    .dataframe tbody tr th:only-of-type {\n",
       "        vertical-align: middle;\n",
       "    }\n",
       "\n",
       "    .dataframe tbody tr th {\n",
       "        vertical-align: top;\n",
       "    }\n",
       "\n",
       "    .dataframe thead th {\n",
       "        text-align: right;\n",
       "    }\n",
       "</style>\n",
       "<table border=\"1\" class=\"dataframe\">\n",
       "  <thead>\n",
       "    <tr style=\"text-align: right;\">\n",
       "      <th></th>\n",
       "      <th>Surname</th>\n",
       "      <th>First Names</th>\n",
       "      <th>Age</th>\n",
       "      <th>Pclass</th>\n",
       "    </tr>\n",
       "  </thead>\n",
       "  <tbody>\n",
       "    <tr>\n",
       "      <th>621</th>\n",
       "      <td>Al-Munà</td>\n",
       "      <td>Mr Far īd Husayn Qāsim</td>\n",
       "      <td>18</td>\n",
       "      <td>3</td>\n",
       "    </tr>\n",
       "  </tbody>\n",
       "</table>\n",
       "</div>"
      ],
      "text/plain": [
       "0    Surname             First Names Age  Pclass\n",
       "621  Al-Munà  Mr Far īd Husayn Qāsim  18       3"
      ]
     },
     "execution_count": 48,
     "metadata": {},
     "output_type": "execute_result"
    }
   ],
   "source": [
    "website_df[website_df[\"First Names\"]==\"Mr Far īd Husayn Qāsim\"]"
   ]
  },
  {
   "cell_type": "markdown",
   "metadata": {},
   "source": [
    "Special characters are decoded."
   ]
  },
  {
   "cell_type": "code",
   "execution_count": 49,
   "metadata": {},
   "outputs": [],
   "source": [
    "website_df[\"Surname\"]=website_df[\"Surname\"].str.strip().apply(unidecode)\n",
    "website_df[\"First Names\"]=website_df[\"First Names\"].str.strip().apply(unidecode)"
   ]
  },
  {
   "cell_type": "markdown",
   "metadata": {},
   "source": [
    "The name is changed from uppercase to lowercase."
   ]
  },
  {
   "cell_type": "code",
   "execution_count": 50,
   "metadata": {},
   "outputs": [],
   "source": [
    "website_df[\"Surname\"]=website_df[\"Surname\"].str.lower()\n",
    "website_df[\"First Names\"]=website_df[\"First Names\"].str.lower()"
   ]
  },
  {
   "cell_type": "markdown",
   "metadata": {},
   "source": [
    "There are people with age in months and with type string in the variable age in the dataframe of the website."
   ]
  },
  {
   "cell_type": "code",
   "execution_count": 51,
   "metadata": {},
   "outputs": [],
   "source": [
    "def do_not_have_age_information(age):\n",
    "    return age==\"\"\n",
    "\n",
    "def get_age_with_two_decimals(age):\n",
    "    return round(age,2)\n",
    "\n",
    "def age_is_in_months(age):\n",
    "    return len(age)>1\n",
    "\n",
    "def convert_age_to_years(row):\n",
    "    age=re.split(r\"[A-Za-z]\",row[\"Age\"])\n",
    "    age_in_years=age[0]\n",
    "    if do_not_have_age_information(age_in_years):\n",
    "        row[\"Age\"]=np.nan\n",
    "    else:\n",
    "        age_in_years = float(age_in_years)\n",
    "        if age_is_in_months(age):\n",
    "            age_in_years /= 12\n",
    "        row[\"Age\"] = get_age_with_two_decimals(age_in_years)\n",
    "    return row"
   ]
  },
  {
   "cell_type": "code",
   "execution_count": 52,
   "metadata": {},
   "outputs": [],
   "source": [
    "website_df=website_df.apply(convert_age_to_years,axis=\"columns\")"
   ]
  },
  {
   "cell_type": "markdown",
   "metadata": {},
   "source": [
    "Passengers that have the age attribute are separated, both in the CSV df and in the website df."
   ]
  },
  {
   "cell_type": "code",
   "execution_count": 53,
   "metadata": {},
   "outputs": [],
   "source": [
    "def has_age(df):\n",
    " return df[\"Age\"].notna()\n",
    "\n",
    "data_with_ages_not_null_csv=csv_df[has_age(csv_df)]\n",
    "data_with_ages_not_null_web=website_df[has_age(website_df)]"
   ]
  },
  {
   "cell_type": "code",
   "execution_count": 54,
   "metadata": {},
   "outputs": [
    {
     "name": "stdout",
     "output_type": "stream",
     "text": [
      "<class 'pandas.core.frame.DataFrame'>\n",
      "Index: 714 entries, 0 to 890\n",
      "Data columns (total 8 columns):\n",
      " #   Column    Non-Null Count  Dtype  \n",
      "---  ------    --------------  -----  \n",
      " 0   Survived  714 non-null    int64  \n",
      " 1   Name      714 non-null    object \n",
      " 2   Sex       714 non-null    object \n",
      " 3   Age       714 non-null    float64\n",
      " 4   SibSp     714 non-null    int64  \n",
      " 5   Parch     714 non-null    int64  \n",
      " 6   Embarked  712 non-null    object \n",
      " 7   Surname   714 non-null    object \n",
      "dtypes: float64(1), int64(3), object(4)\n",
      "memory usage: 50.2+ KB\n"
     ]
    }
   ],
   "source": [
    "data_with_ages_not_null_csv.info()"
   ]
  },
  {
   "cell_type": "code",
   "execution_count": 55,
   "metadata": {},
   "outputs": [
    {
     "name": "stdout",
     "output_type": "stream",
     "text": [
      "<class 'pandas.core.frame.DataFrame'>\n",
      "Index: 1315 entries, 0 to 1316\n",
      "Data columns (total 4 columns):\n",
      " #   Column       Non-Null Count  Dtype  \n",
      "---  ------       --------------  -----  \n",
      " 0   Surname      1315 non-null   object \n",
      " 1   First Names  1315 non-null   object \n",
      " 2   Age          1315 non-null   float64\n",
      " 3   Pclass       1315 non-null   int64  \n",
      "dtypes: float64(1), int64(1), object(2)\n",
      "memory usage: 51.4+ KB\n"
     ]
    }
   ],
   "source": [
    "data_with_ages_not_null_web.info()\n"
   ]
  },
  {
   "cell_type": "markdown",
   "metadata": {},
   "source": [
    "There are people with the same last name and the same age."
   ]
  },
  {
   "cell_type": "code",
   "execution_count": 56,
   "metadata": {},
   "outputs": [],
   "source": [
    "def has_the_same_last_name_and_age(df):\n",
    " return df[[\"Surname\",\"Age\"]].duplicated(keep=False)"
   ]
  },
  {
   "cell_type": "code",
   "execution_count": 57,
   "metadata": {},
   "outputs": [
    {
     "data": {
      "text/html": [
       "<div>\n",
       "<style scoped>\n",
       "    .dataframe tbody tr th:only-of-type {\n",
       "        vertical-align: middle;\n",
       "    }\n",
       "\n",
       "    .dataframe tbody tr th {\n",
       "        vertical-align: top;\n",
       "    }\n",
       "\n",
       "    .dataframe thead th {\n",
       "        text-align: right;\n",
       "    }\n",
       "</style>\n",
       "<table border=\"1\" class=\"dataframe\">\n",
       "  <thead>\n",
       "    <tr style=\"text-align: right;\">\n",
       "      <th></th>\n",
       "      <th>Surname</th>\n",
       "      <th>First Names</th>\n",
       "      <th>Age</th>\n",
       "      <th>Pclass</th>\n",
       "    </tr>\n",
       "  </thead>\n",
       "  <tbody>\n",
       "    <tr>\n",
       "      <th>650</th>\n",
       "      <td>asplund</td>\n",
       "      <td>master carl edgar</td>\n",
       "      <td>5.0</td>\n",
       "      <td>3</td>\n",
       "    </tr>\n",
       "    <tr>\n",
       "      <th>653</th>\n",
       "      <td>asplund</td>\n",
       "      <td>miss lillian gertrud</td>\n",
       "      <td>5.0</td>\n",
       "      <td>3</td>\n",
       "    </tr>\n",
       "    <tr>\n",
       "      <th>705</th>\n",
       "      <td>calic</td>\n",
       "      <td>mr jovo</td>\n",
       "      <td>17.0</td>\n",
       "      <td>3</td>\n",
       "    </tr>\n",
       "    <tr>\n",
       "      <th>704</th>\n",
       "      <td>calic</td>\n",
       "      <td>mr petar</td>\n",
       "      <td>17.0</td>\n",
       "      <td>3</td>\n",
       "    </tr>\n",
       "    <tr>\n",
       "      <th>197</th>\n",
       "      <td>marvin</td>\n",
       "      <td>mr daniel warner</td>\n",
       "      <td>18.0</td>\n",
       "      <td>1</td>\n",
       "    </tr>\n",
       "  </tbody>\n",
       "</table>\n",
       "</div>"
      ],
      "text/plain": [
       "0    Surname           First Names   Age  Pclass\n",
       "650  asplund     master carl edgar   5.0       3\n",
       "653  asplund  miss lillian gertrud   5.0       3\n",
       "705    calic               mr jovo  17.0       3\n",
       "704    calic              mr petar  17.0       3\n",
       "197   marvin      mr daniel warner  18.0       1"
      ]
     },
     "execution_count": 57,
     "metadata": {},
     "output_type": "execute_result"
    }
   ],
   "source": [
    "data_with_ages_not_null_web[\n",
    "    has_the_same_last_name_and_age(data_with_ages_not_null_web)\n",
    "].sort_values(by=\"Age\").head()"
   ]
  },
  {
   "cell_type": "code",
   "execution_count": 58,
   "metadata": {},
   "outputs": [
    {
     "data": {
      "text/html": [
       "<div>\n",
       "<style scoped>\n",
       "    .dataframe tbody tr th:only-of-type {\n",
       "        vertical-align: middle;\n",
       "    }\n",
       "\n",
       "    .dataframe tbody tr th {\n",
       "        vertical-align: top;\n",
       "    }\n",
       "\n",
       "    .dataframe thead th {\n",
       "        text-align: right;\n",
       "    }\n",
       "</style>\n",
       "<table border=\"1\" class=\"dataframe\">\n",
       "  <thead>\n",
       "    <tr style=\"text-align: right;\">\n",
       "      <th></th>\n",
       "      <th>Survived</th>\n",
       "      <th>Name</th>\n",
       "      <th>Sex</th>\n",
       "      <th>Age</th>\n",
       "      <th>SibSp</th>\n",
       "      <th>Parch</th>\n",
       "      <th>Embarked</th>\n",
       "      <th>Surname</th>\n",
       "    </tr>\n",
       "  </thead>\n",
       "  <tbody>\n",
       "    <tr>\n",
       "      <th>469</th>\n",
       "      <td>1</td>\n",
       "      <td>miss. helene barbara</td>\n",
       "      <td>female</td>\n",
       "      <td>0.75</td>\n",
       "      <td>2</td>\n",
       "      <td>1</td>\n",
       "      <td>C</td>\n",
       "      <td>baclini</td>\n",
       "    </tr>\n",
       "    <tr>\n",
       "      <th>644</th>\n",
       "      <td>1</td>\n",
       "      <td>miss. eugenie</td>\n",
       "      <td>female</td>\n",
       "      <td>0.75</td>\n",
       "      <td>2</td>\n",
       "      <td>1</td>\n",
       "      <td>C</td>\n",
       "      <td>baclini</td>\n",
       "    </tr>\n",
       "    <tr>\n",
       "      <th>163</th>\n",
       "      <td>0</td>\n",
       "      <td>mr. jovo</td>\n",
       "      <td>male</td>\n",
       "      <td>17.00</td>\n",
       "      <td>0</td>\n",
       "      <td>0</td>\n",
       "      <td>S</td>\n",
       "      <td>calic</td>\n",
       "    </tr>\n",
       "    <tr>\n",
       "      <th>500</th>\n",
       "      <td>0</td>\n",
       "      <td>mr. petar</td>\n",
       "      <td>male</td>\n",
       "      <td>17.00</td>\n",
       "      <td>0</td>\n",
       "      <td>0</td>\n",
       "      <td>S</td>\n",
       "      <td>calic</td>\n",
       "    </tr>\n",
       "    <tr>\n",
       "      <th>404</th>\n",
       "      <td>0</td>\n",
       "      <td>miss. marija</td>\n",
       "      <td>female</td>\n",
       "      <td>20.00</td>\n",
       "      <td>0</td>\n",
       "      <td>0</td>\n",
       "      <td>S</td>\n",
       "      <td>oreskovic</td>\n",
       "    </tr>\n",
       "  </tbody>\n",
       "</table>\n",
       "</div>"
      ],
      "text/plain": [
       "     Survived                  Name     Sex    Age  SibSp  Parch Embarked  \\\n",
       "469         1  miss. helene barbara  female   0.75      2      1        C   \n",
       "644         1         miss. eugenie  female   0.75      2      1        C   \n",
       "163         0              mr. jovo    male  17.00      0      0        S   \n",
       "500         0             mr. petar    male  17.00      0      0        S   \n",
       "404         0          miss. marija  female  20.00      0      0        S   \n",
       "\n",
       "       Surname  \n",
       "469    baclini  \n",
       "644    baclini  \n",
       "163      calic  \n",
       "500      calic  \n",
       "404  oreskovic  "
      ]
     },
     "execution_count": 58,
     "metadata": {},
     "output_type": "execute_result"
    }
   ],
   "source": [
    "data_with_ages_not_null_csv[\n",
    "    has_the_same_last_name_and_age(data_with_ages_not_null_csv)\n",
    "].sort_values(by=\"Age\").head()"
   ]
  },
  {
   "cell_type": "markdown",
   "metadata": {},
   "source": [
    "Separamos a los que no tienen el mismo apellido y la misma edad."
   ]
  },
  {
   "cell_type": "code",
   "execution_count": 59,
   "metadata": {},
   "outputs": [],
   "source": [
    "data_with_ages_not_null_csv=data_with_ages_not_null_csv[\n",
    "    ~has_the_same_last_name_and_age(data_with_ages_not_null_csv)]\n",
    "data_with_ages_not_null_web=data_with_ages_not_null_web[\n",
    "    ~has_the_same_last_name_and_age(data_with_ages_not_null_web)]"
   ]
  },
  {
   "cell_type": "code",
   "execution_count": 60,
   "metadata": {},
   "outputs": [
    {
     "name": "stdout",
     "output_type": "stream",
     "text": [
      "<class 'pandas.core.frame.DataFrame'>\n",
      "Index: 700 entries, 0 to 890\n",
      "Data columns (total 8 columns):\n",
      " #   Column    Non-Null Count  Dtype  \n",
      "---  ------    --------------  -----  \n",
      " 0   Survived  700 non-null    int64  \n",
      " 1   Name      700 non-null    object \n",
      " 2   Sex       700 non-null    object \n",
      " 3   Age       700 non-null    float64\n",
      " 4   SibSp     700 non-null    int64  \n",
      " 5   Parch     700 non-null    int64  \n",
      " 6   Embarked  698 non-null    object \n",
      " 7   Surname   700 non-null    object \n",
      "dtypes: float64(1), int64(3), object(4)\n",
      "memory usage: 49.2+ KB\n"
     ]
    }
   ],
   "source": [
    "data_with_ages_not_null_csv.info()"
   ]
  },
  {
   "cell_type": "code",
   "execution_count": 61,
   "metadata": {},
   "outputs": [
    {
     "name": "stdout",
     "output_type": "stream",
     "text": [
      "<class 'pandas.core.frame.DataFrame'>\n",
      "Index: 1281 entries, 0 to 1316\n",
      "Data columns (total 4 columns):\n",
      " #   Column       Non-Null Count  Dtype  \n",
      "---  ------       --------------  -----  \n",
      " 0   Surname      1281 non-null   object \n",
      " 1   First Names  1281 non-null   object \n",
      " 2   Age          1281 non-null   float64\n",
      " 3   Pclass       1281 non-null   int64  \n",
      "dtypes: float64(1), int64(1), object(2)\n",
      "memory usage: 50.0+ KB\n"
     ]
    }
   ],
   "source": [
    "data_with_ages_not_null_web.info()"
   ]
  },
  {
   "cell_type": "markdown",
   "metadata": {},
   "source": [
    "### First way of matching"
   ]
  },
  {
   "cell_type": "markdown",
   "metadata": {},
   "source": [
    "We do the inner join of the df of the web page with the df of the csv by the key (Last Name, Age)."
   ]
  },
  {
   "cell_type": "code",
   "execution_count": 62,
   "metadata": {},
   "outputs": [],
   "source": [
    "match_first_form=pd.merge(data_with_ages_not_null_web\n",
    "                          ,data_with_ages_not_null_csv\n",
    "                          ,on=[\"Surname\",\"Age\"]\n",
    "                          ,how=\"inner\")"
   ]
  },
  {
   "cell_type": "code",
   "execution_count": 63,
   "metadata": {},
   "outputs": [
    {
     "data": {
      "text/html": [
       "<div>\n",
       "<style scoped>\n",
       "    .dataframe tbody tr th:only-of-type {\n",
       "        vertical-align: middle;\n",
       "    }\n",
       "\n",
       "    .dataframe tbody tr th {\n",
       "        vertical-align: top;\n",
       "    }\n",
       "\n",
       "    .dataframe thead th {\n",
       "        text-align: right;\n",
       "    }\n",
       "</style>\n",
       "<table border=\"1\" class=\"dataframe\">\n",
       "  <thead>\n",
       "    <tr style=\"text-align: right;\">\n",
       "      <th></th>\n",
       "      <th>Surname</th>\n",
       "      <th>First Names</th>\n",
       "      <th>Age</th>\n",
       "      <th>Pclass</th>\n",
       "      <th>Survived</th>\n",
       "      <th>Name</th>\n",
       "      <th>Sex</th>\n",
       "      <th>SibSp</th>\n",
       "      <th>Parch</th>\n",
       "      <th>Embarked</th>\n",
       "    </tr>\n",
       "  </thead>\n",
       "  <tbody>\n",
       "    <tr>\n",
       "      <th>0</th>\n",
       "      <td>allen</td>\n",
       "      <td>miss elisabeth walton</td>\n",
       "      <td>29.00</td>\n",
       "      <td>1</td>\n",
       "      <td>1</td>\n",
       "      <td>miss. elisabeth walton</td>\n",
       "      <td>female</td>\n",
       "      <td>0</td>\n",
       "      <td>0</td>\n",
       "      <td>S</td>\n",
       "    </tr>\n",
       "    <tr>\n",
       "      <th>1</th>\n",
       "      <td>allison</td>\n",
       "      <td>mrs bessie waldo</td>\n",
       "      <td>25.00</td>\n",
       "      <td>1</td>\n",
       "      <td>0</td>\n",
       "      <td>mrs. hudson j c (bessie waldo daniels)</td>\n",
       "      <td>female</td>\n",
       "      <td>1</td>\n",
       "      <td>2</td>\n",
       "      <td>S</td>\n",
       "    </tr>\n",
       "    <tr>\n",
       "      <th>2</th>\n",
       "      <td>allison</td>\n",
       "      <td>miss helen loraine</td>\n",
       "      <td>2.00</td>\n",
       "      <td>1</td>\n",
       "      <td>0</td>\n",
       "      <td>miss. helen loraine</td>\n",
       "      <td>female</td>\n",
       "      <td>1</td>\n",
       "      <td>2</td>\n",
       "      <td>S</td>\n",
       "    </tr>\n",
       "    <tr>\n",
       "      <th>3</th>\n",
       "      <td>allison</td>\n",
       "      <td>master hudson trevor</td>\n",
       "      <td>0.92</td>\n",
       "      <td>1</td>\n",
       "      <td>1</td>\n",
       "      <td>master. hudson trevor</td>\n",
       "      <td>male</td>\n",
       "      <td>1</td>\n",
       "      <td>2</td>\n",
       "      <td>S</td>\n",
       "    </tr>\n",
       "    <tr>\n",
       "      <th>4</th>\n",
       "      <td>andrews</td>\n",
       "      <td>mr thomas</td>\n",
       "      <td>39.00</td>\n",
       "      <td>1</td>\n",
       "      <td>0</td>\n",
       "      <td>mr. thomas jr</td>\n",
       "      <td>male</td>\n",
       "      <td>0</td>\n",
       "      <td>0</td>\n",
       "      <td>S</td>\n",
       "    </tr>\n",
       "  </tbody>\n",
       "</table>\n",
       "</div>"
      ],
      "text/plain": [
       "   Surname            First Names    Age  Pclass  Survived  \\\n",
       "0    allen  miss elisabeth walton  29.00       1         1   \n",
       "1  allison       mrs bessie waldo  25.00       1         0   \n",
       "2  allison     miss helen loraine   2.00       1         0   \n",
       "3  allison   master hudson trevor   0.92       1         1   \n",
       "4  andrews              mr thomas  39.00       1         0   \n",
       "\n",
       "                                     Name     Sex  SibSp  Parch Embarked  \n",
       "0                  miss. elisabeth walton  female      0      0        S  \n",
       "1  mrs. hudson j c (bessie waldo daniels)  female      1      2        S  \n",
       "2                     miss. helen loraine  female      1      2        S  \n",
       "3                   master. hudson trevor    male      1      2        S  \n",
       "4                           mr. thomas jr    male      0      0        S  "
      ]
     },
     "execution_count": 63,
     "metadata": {},
     "output_type": "execute_result"
    }
   ],
   "source": [
    "match_first_form.head()"
   ]
  },
  {
   "cell_type": "code",
   "execution_count": 64,
   "metadata": {},
   "outputs": [],
   "source": [
    "match_first_form.reset_index(inplace=True,drop=True)"
   ]
  },
  {
   "cell_type": "code",
   "execution_count": 65,
   "metadata": {},
   "outputs": [
    {
     "data": {
      "text/plain": [
       "(481, 10)"
      ]
     },
     "execution_count": 65,
     "metadata": {},
     "output_type": "execute_result"
    }
   ],
   "source": [
    "match_first_form.shape"
   ]
  },
  {
   "cell_type": "markdown",
   "metadata": {},
   "source": [
    "### Second way of matching"
   ]
  },
  {
   "cell_type": "markdown",
   "metadata": {},
   "source": [
    "Matching based on the number of occurrences of one name within another."
   ]
  },
  {
   "cell_type": "markdown",
   "metadata": {},
   "source": [
    "First we separated those who did not have a match."
   ]
  },
  {
   "cell_type": "code",
   "execution_count": 66,
   "metadata": {},
   "outputs": [],
   "source": [
    "def get_full_name(passenger, surname_column, first_name_column):\n",
    " return passenger[surname_column].strip()+\", \"+passenger[first_name_column].strip()"
   ]
  },
  {
   "cell_type": "code",
   "execution_count": 67,
   "metadata": {},
   "outputs": [],
   "source": [
    "surname_column=\"Surname\"\n",
    "name_column=\"Name\"\n"
   ]
  },
  {
   "cell_type": "markdown",
   "metadata": {},
   "source": [
    "The full name is obtained from the already matched data, since the full name will be part of our primary key."
   ]
  },
  {
   "cell_type": "code",
   "execution_count": 68,
   "metadata": {},
   "outputs": [],
   "source": [
    "match_first_form[\"Name\"]=match_first_form.apply \\\n",
    "                                        (get_full_name,axis=\"columns\"\n",
    "                                        ,surname_column=surname_column\n",
    "                                        ,first_name_column=name_column)"
   ]
  },
  {
   "cell_type": "code",
   "execution_count": 69,
   "metadata": {},
   "outputs": [],
   "source": [
    "csv_df[\"Name\"]=csv_df.apply(get_full_name,axis=\"columns\"\n",
    "                            ,surname_column=surname_column\n",
    "                            ,first_name_column=name_column)"
   ]
  },
  {
   "cell_type": "code",
   "execution_count": 70,
   "metadata": {},
   "outputs": [
    {
     "data": {
      "text/html": [
       "<div>\n",
       "<style scoped>\n",
       "    .dataframe tbody tr th:only-of-type {\n",
       "        vertical-align: middle;\n",
       "    }\n",
       "\n",
       "    .dataframe tbody tr th {\n",
       "        vertical-align: top;\n",
       "    }\n",
       "\n",
       "    .dataframe thead th {\n",
       "        text-align: right;\n",
       "    }\n",
       "</style>\n",
       "<table border=\"1\" class=\"dataframe\">\n",
       "  <thead>\n",
       "    <tr style=\"text-align: right;\">\n",
       "      <th></th>\n",
       "      <th>Surname</th>\n",
       "      <th>First Names</th>\n",
       "      <th>Age</th>\n",
       "      <th>Pclass</th>\n",
       "      <th>Survived</th>\n",
       "      <th>Name</th>\n",
       "      <th>Sex</th>\n",
       "      <th>SibSp</th>\n",
       "      <th>Parch</th>\n",
       "      <th>Embarked</th>\n",
       "    </tr>\n",
       "  </thead>\n",
       "  <tbody>\n",
       "    <tr>\n",
       "      <th>0</th>\n",
       "      <td>allen</td>\n",
       "      <td>miss elisabeth walton</td>\n",
       "      <td>29.00</td>\n",
       "      <td>1</td>\n",
       "      <td>1</td>\n",
       "      <td>allen, miss. elisabeth walton</td>\n",
       "      <td>female</td>\n",
       "      <td>0</td>\n",
       "      <td>0</td>\n",
       "      <td>S</td>\n",
       "    </tr>\n",
       "    <tr>\n",
       "      <th>1</th>\n",
       "      <td>allison</td>\n",
       "      <td>mrs bessie waldo</td>\n",
       "      <td>25.00</td>\n",
       "      <td>1</td>\n",
       "      <td>0</td>\n",
       "      <td>allison, mrs. hudson j c (bessie waldo daniels)</td>\n",
       "      <td>female</td>\n",
       "      <td>1</td>\n",
       "      <td>2</td>\n",
       "      <td>S</td>\n",
       "    </tr>\n",
       "    <tr>\n",
       "      <th>2</th>\n",
       "      <td>allison</td>\n",
       "      <td>miss helen loraine</td>\n",
       "      <td>2.00</td>\n",
       "      <td>1</td>\n",
       "      <td>0</td>\n",
       "      <td>allison, miss. helen loraine</td>\n",
       "      <td>female</td>\n",
       "      <td>1</td>\n",
       "      <td>2</td>\n",
       "      <td>S</td>\n",
       "    </tr>\n",
       "    <tr>\n",
       "      <th>3</th>\n",
       "      <td>allison</td>\n",
       "      <td>master hudson trevor</td>\n",
       "      <td>0.92</td>\n",
       "      <td>1</td>\n",
       "      <td>1</td>\n",
       "      <td>allison, master. hudson trevor</td>\n",
       "      <td>male</td>\n",
       "      <td>1</td>\n",
       "      <td>2</td>\n",
       "      <td>S</td>\n",
       "    </tr>\n",
       "    <tr>\n",
       "      <th>4</th>\n",
       "      <td>andrews</td>\n",
       "      <td>mr thomas</td>\n",
       "      <td>39.00</td>\n",
       "      <td>1</td>\n",
       "      <td>0</td>\n",
       "      <td>andrews, mr. thomas jr</td>\n",
       "      <td>male</td>\n",
       "      <td>0</td>\n",
       "      <td>0</td>\n",
       "      <td>S</td>\n",
       "    </tr>\n",
       "  </tbody>\n",
       "</table>\n",
       "</div>"
      ],
      "text/plain": [
       "   Surname            First Names    Age  Pclass  Survived  \\\n",
       "0    allen  miss elisabeth walton  29.00       1         1   \n",
       "1  allison       mrs bessie waldo  25.00       1         0   \n",
       "2  allison     miss helen loraine   2.00       1         0   \n",
       "3  allison   master hudson trevor   0.92       1         1   \n",
       "4  andrews              mr thomas  39.00       1         0   \n",
       "\n",
       "                                              Name     Sex  SibSp  Parch  \\\n",
       "0                    allen, miss. elisabeth walton  female      0      0   \n",
       "1  allison, mrs. hudson j c (bessie waldo daniels)  female      1      2   \n",
       "2                     allison, miss. helen loraine  female      1      2   \n",
       "3                   allison, master. hudson trevor    male      1      2   \n",
       "4                           andrews, mr. thomas jr    male      0      0   \n",
       "\n",
       "  Embarked  \n",
       "0        S  \n",
       "1        S  \n",
       "2        S  \n",
       "3        S  \n",
       "4        S  "
      ]
     },
     "execution_count": 70,
     "metadata": {},
     "output_type": "execute_result"
    }
   ],
   "source": [
    "match_first_form.head()"
   ]
  },
  {
   "cell_type": "code",
   "execution_count": 71,
   "metadata": {},
   "outputs": [
    {
     "data": {
      "text/html": [
       "<div>\n",
       "<style scoped>\n",
       "    .dataframe tbody tr th:only-of-type {\n",
       "        vertical-align: middle;\n",
       "    }\n",
       "\n",
       "    .dataframe tbody tr th {\n",
       "        vertical-align: top;\n",
       "    }\n",
       "\n",
       "    .dataframe thead th {\n",
       "        text-align: right;\n",
       "    }\n",
       "</style>\n",
       "<table border=\"1\" class=\"dataframe\">\n",
       "  <thead>\n",
       "    <tr style=\"text-align: right;\">\n",
       "      <th></th>\n",
       "      <th>Survived</th>\n",
       "      <th>Name</th>\n",
       "      <th>Sex</th>\n",
       "      <th>Age</th>\n",
       "      <th>SibSp</th>\n",
       "      <th>Parch</th>\n",
       "      <th>Embarked</th>\n",
       "      <th>Surname</th>\n",
       "    </tr>\n",
       "  </thead>\n",
       "  <tbody>\n",
       "    <tr>\n",
       "      <th>0</th>\n",
       "      <td>0</td>\n",
       "      <td>braund, mr. owen harris</td>\n",
       "      <td>male</td>\n",
       "      <td>22.0</td>\n",
       "      <td>1</td>\n",
       "      <td>0</td>\n",
       "      <td>S</td>\n",
       "      <td>braund</td>\n",
       "    </tr>\n",
       "    <tr>\n",
       "      <th>1</th>\n",
       "      <td>1</td>\n",
       "      <td>cumings, mrs. john bradley (florence briggs th...</td>\n",
       "      <td>female</td>\n",
       "      <td>38.0</td>\n",
       "      <td>1</td>\n",
       "      <td>0</td>\n",
       "      <td>C</td>\n",
       "      <td>cumings</td>\n",
       "    </tr>\n",
       "    <tr>\n",
       "      <th>2</th>\n",
       "      <td>1</td>\n",
       "      <td>heikkinen, miss. laina</td>\n",
       "      <td>female</td>\n",
       "      <td>26.0</td>\n",
       "      <td>0</td>\n",
       "      <td>0</td>\n",
       "      <td>S</td>\n",
       "      <td>heikkinen</td>\n",
       "    </tr>\n",
       "    <tr>\n",
       "      <th>3</th>\n",
       "      <td>1</td>\n",
       "      <td>futrelle, mrs. jacques heath (lily may peel)</td>\n",
       "      <td>female</td>\n",
       "      <td>35.0</td>\n",
       "      <td>1</td>\n",
       "      <td>0</td>\n",
       "      <td>S</td>\n",
       "      <td>futrelle</td>\n",
       "    </tr>\n",
       "    <tr>\n",
       "      <th>4</th>\n",
       "      <td>0</td>\n",
       "      <td>allen, mr. william henry</td>\n",
       "      <td>male</td>\n",
       "      <td>35.0</td>\n",
       "      <td>0</td>\n",
       "      <td>0</td>\n",
       "      <td>S</td>\n",
       "      <td>allen</td>\n",
       "    </tr>\n",
       "  </tbody>\n",
       "</table>\n",
       "</div>"
      ],
      "text/plain": [
       "   Survived                                               Name     Sex   Age  \\\n",
       "0         0                            braund, mr. owen harris    male  22.0   \n",
       "1         1  cumings, mrs. john bradley (florence briggs th...  female  38.0   \n",
       "2         1                             heikkinen, miss. laina  female  26.0   \n",
       "3         1       futrelle, mrs. jacques heath (lily may peel)  female  35.0   \n",
       "4         0                           allen, mr. william henry    male  35.0   \n",
       "\n",
       "   SibSp  Parch Embarked    Surname  \n",
       "0      1      0        S     braund  \n",
       "1      1      0        C    cumings  \n",
       "2      0      0        S  heikkinen  \n",
       "3      1      0        S   futrelle  \n",
       "4      0      0        S      allen  "
      ]
     },
     "execution_count": 71,
     "metadata": {},
     "output_type": "execute_result"
    }
   ],
   "source": [
    "csv_df.head()"
   ]
  },
  {
   "cell_type": "markdown",
   "metadata": {},
   "source": [
    "Unmatched data from the web page and the CSV are separated."
   ]
  },
  {
   "cell_type": "code",
   "execution_count": 72,
   "metadata": {},
   "outputs": [],
   "source": [
    "data_unmatched_csv=csv_df[~csv_df[\"Name\"].isin(match_first_form[\"Name\"])]"
   ]
  },
  {
   "cell_type": "code",
   "execution_count": 73,
   "metadata": {},
   "outputs": [
    {
     "data": {
      "text/html": [
       "<div>\n",
       "<style scoped>\n",
       "    .dataframe tbody tr th:only-of-type {\n",
       "        vertical-align: middle;\n",
       "    }\n",
       "\n",
       "    .dataframe tbody tr th {\n",
       "        vertical-align: top;\n",
       "    }\n",
       "\n",
       "    .dataframe thead th {\n",
       "        text-align: right;\n",
       "    }\n",
       "</style>\n",
       "<table border=\"1\" class=\"dataframe\">\n",
       "  <thead>\n",
       "    <tr style=\"text-align: right;\">\n",
       "      <th></th>\n",
       "      <th>Survived</th>\n",
       "      <th>Name</th>\n",
       "      <th>Sex</th>\n",
       "      <th>Age</th>\n",
       "      <th>SibSp</th>\n",
       "      <th>Parch</th>\n",
       "      <th>Embarked</th>\n",
       "      <th>Surname</th>\n",
       "    </tr>\n",
       "  </thead>\n",
       "  <tbody>\n",
       "    <tr>\n",
       "      <th>1</th>\n",
       "      <td>1</td>\n",
       "      <td>cumings, mrs. john bradley (florence briggs th...</td>\n",
       "      <td>female</td>\n",
       "      <td>38.0</td>\n",
       "      <td>1</td>\n",
       "      <td>0</td>\n",
       "      <td>C</td>\n",
       "      <td>cumings</td>\n",
       "    </tr>\n",
       "    <tr>\n",
       "      <th>4</th>\n",
       "      <td>0</td>\n",
       "      <td>allen, mr. william henry</td>\n",
       "      <td>male</td>\n",
       "      <td>35.0</td>\n",
       "      <td>0</td>\n",
       "      <td>0</td>\n",
       "      <td>S</td>\n",
       "      <td>allen</td>\n",
       "    </tr>\n",
       "    <tr>\n",
       "      <th>5</th>\n",
       "      <td>0</td>\n",
       "      <td>moran, mr. james</td>\n",
       "      <td>male</td>\n",
       "      <td>NaN</td>\n",
       "      <td>0</td>\n",
       "      <td>0</td>\n",
       "      <td>Q</td>\n",
       "      <td>moran</td>\n",
       "    </tr>\n",
       "    <tr>\n",
       "      <th>8</th>\n",
       "      <td>1</td>\n",
       "      <td>johnson, mrs. oscar w (elisabeth vilhelmina berg)</td>\n",
       "      <td>female</td>\n",
       "      <td>27.0</td>\n",
       "      <td>0</td>\n",
       "      <td>2</td>\n",
       "      <td>S</td>\n",
       "      <td>johnson</td>\n",
       "    </tr>\n",
       "    <tr>\n",
       "      <th>11</th>\n",
       "      <td>1</td>\n",
       "      <td>bonnell, miss. elizabeth</td>\n",
       "      <td>female</td>\n",
       "      <td>58.0</td>\n",
       "      <td>0</td>\n",
       "      <td>0</td>\n",
       "      <td>S</td>\n",
       "      <td>bonnell</td>\n",
       "    </tr>\n",
       "    <tr>\n",
       "      <th>...</th>\n",
       "      <td>...</td>\n",
       "      <td>...</td>\n",
       "      <td>...</td>\n",
       "      <td>...</td>\n",
       "      <td>...</td>\n",
       "      <td>...</td>\n",
       "      <td>...</td>\n",
       "      <td>...</td>\n",
       "    </tr>\n",
       "    <tr>\n",
       "      <th>875</th>\n",
       "      <td>1</td>\n",
       "      <td>najib, miss. adele kiamie \"jane\"</td>\n",
       "      <td>female</td>\n",
       "      <td>15.0</td>\n",
       "      <td>0</td>\n",
       "      <td>0</td>\n",
       "      <td>C</td>\n",
       "      <td>najib</td>\n",
       "    </tr>\n",
       "    <tr>\n",
       "      <th>876</th>\n",
       "      <td>0</td>\n",
       "      <td>gustafsson, mr. alfred ossian</td>\n",
       "      <td>male</td>\n",
       "      <td>20.0</td>\n",
       "      <td>0</td>\n",
       "      <td>0</td>\n",
       "      <td>S</td>\n",
       "      <td>gustafsson</td>\n",
       "    </tr>\n",
       "    <tr>\n",
       "      <th>878</th>\n",
       "      <td>0</td>\n",
       "      <td>laleff, mr. kristo</td>\n",
       "      <td>male</td>\n",
       "      <td>NaN</td>\n",
       "      <td>0</td>\n",
       "      <td>0</td>\n",
       "      <td>S</td>\n",
       "      <td>laleff</td>\n",
       "    </tr>\n",
       "    <tr>\n",
       "      <th>888</th>\n",
       "      <td>0</td>\n",
       "      <td>johnston, miss. catherine helen \"carrie\"</td>\n",
       "      <td>female</td>\n",
       "      <td>NaN</td>\n",
       "      <td>1</td>\n",
       "      <td>2</td>\n",
       "      <td>S</td>\n",
       "      <td>johnston</td>\n",
       "    </tr>\n",
       "    <tr>\n",
       "      <th>890</th>\n",
       "      <td>0</td>\n",
       "      <td>dooley, mr. patrick</td>\n",
       "      <td>male</td>\n",
       "      <td>32.0</td>\n",
       "      <td>0</td>\n",
       "      <td>0</td>\n",
       "      <td>Q</td>\n",
       "      <td>dooley</td>\n",
       "    </tr>\n",
       "  </tbody>\n",
       "</table>\n",
       "<p>410 rows × 8 columns</p>\n",
       "</div>"
      ],
      "text/plain": [
       "     Survived                                               Name     Sex  \\\n",
       "1           1  cumings, mrs. john bradley (florence briggs th...  female   \n",
       "4           0                           allen, mr. william henry    male   \n",
       "5           0                                   moran, mr. james    male   \n",
       "8           1  johnson, mrs. oscar w (elisabeth vilhelmina berg)  female   \n",
       "11          1                           bonnell, miss. elizabeth  female   \n",
       "..        ...                                                ...     ...   \n",
       "875         1                   najib, miss. adele kiamie \"jane\"  female   \n",
       "876         0                      gustafsson, mr. alfred ossian    male   \n",
       "878         0                                 laleff, mr. kristo    male   \n",
       "888         0           johnston, miss. catherine helen \"carrie\"  female   \n",
       "890         0                                dooley, mr. patrick    male   \n",
       "\n",
       "      Age  SibSp  Parch Embarked     Surname  \n",
       "1    38.0      1      0        C     cumings  \n",
       "4    35.0      0      0        S       allen  \n",
       "5     NaN      0      0        Q       moran  \n",
       "8    27.0      0      2        S     johnson  \n",
       "11   58.0      0      0        S     bonnell  \n",
       "..    ...    ...    ...      ...         ...  \n",
       "875  15.0      0      0        C       najib  \n",
       "876  20.0      0      0        S  gustafsson  \n",
       "878   NaN      0      0        S      laleff  \n",
       "888   NaN      1      2        S    johnston  \n",
       "890  32.0      0      0        Q      dooley  \n",
       "\n",
       "[410 rows x 8 columns]"
      ]
     },
     "execution_count": 73,
     "metadata": {},
     "output_type": "execute_result"
    }
   ],
   "source": [
    "data_unmatched_csv"
   ]
  },
  {
   "cell_type": "code",
   "execution_count": 74,
   "metadata": {},
   "outputs": [],
   "source": [
    "web_unmatched_data=website_df[website_df[\"Surname\"].isin(data_unmatched_csv[\"Surname\"])]"
   ]
  },
  {
   "cell_type": "code",
   "execution_count": 75,
   "metadata": {},
   "outputs": [
    {
     "data": {
      "text/html": [
       "<div>\n",
       "<style scoped>\n",
       "    .dataframe tbody tr th:only-of-type {\n",
       "        vertical-align: middle;\n",
       "    }\n",
       "\n",
       "    .dataframe tbody tr th {\n",
       "        vertical-align: top;\n",
       "    }\n",
       "\n",
       "    .dataframe thead th {\n",
       "        text-align: right;\n",
       "    }\n",
       "</style>\n",
       "<table border=\"1\" class=\"dataframe\">\n",
       "  <thead>\n",
       "    <tr style=\"text-align: right;\">\n",
       "      <th></th>\n",
       "      <th>Surname</th>\n",
       "      <th>First Names</th>\n",
       "      <th>Age</th>\n",
       "      <th>Pclass</th>\n",
       "    </tr>\n",
       "  </thead>\n",
       "  <tbody>\n",
       "    <tr>\n",
       "      <th>0</th>\n",
       "      <td>allen</td>\n",
       "      <td>miss elisabeth walton</td>\n",
       "      <td>29.0</td>\n",
       "      <td>1</td>\n",
       "    </tr>\n",
       "    <tr>\n",
       "      <th>5</th>\n",
       "      <td>anderson</td>\n",
       "      <td>mr harry</td>\n",
       "      <td>47.0</td>\n",
       "      <td>1</td>\n",
       "    </tr>\n",
       "    <tr>\n",
       "      <th>6</th>\n",
       "      <td>andrews</td>\n",
       "      <td>miss kornelia theodosia</td>\n",
       "      <td>62.0</td>\n",
       "      <td>1</td>\n",
       "    </tr>\n",
       "    <tr>\n",
       "      <th>7</th>\n",
       "      <td>andrews</td>\n",
       "      <td>mr thomas</td>\n",
       "      <td>39.0</td>\n",
       "      <td>1</td>\n",
       "    </tr>\n",
       "    <tr>\n",
       "      <th>14</th>\n",
       "      <td>barkworth</td>\n",
       "      <td>mr algernon henry</td>\n",
       "      <td>47.0</td>\n",
       "      <td>1</td>\n",
       "    </tr>\n",
       "  </tbody>\n",
       "</table>\n",
       "</div>"
      ],
      "text/plain": [
       "0     Surname              First Names   Age  Pclass\n",
       "0       allen    miss elisabeth walton  29.0       1\n",
       "5    anderson                 mr harry  47.0       1\n",
       "6     andrews  miss kornelia theodosia  62.0       1\n",
       "7     andrews                mr thomas  39.0       1\n",
       "14  barkworth        mr algernon henry  47.0       1"
      ]
     },
     "execution_count": 75,
     "metadata": {},
     "output_type": "execute_result"
    }
   ],
   "source": [
    "web_unmatched_data.head()"
   ]
  },
  {
   "cell_type": "markdown",
   "metadata": {},
   "source": [
    "Additional data is deleted on behalf of the data recovered from the website."
   ]
  },
  {
   "cell_type": "code",
   "execution_count": 76,
   "metadata": {},
   "outputs": [],
   "source": [
    "def remove_extra_info_from_name(data):\n",
    " return re.sub(r\"\\(.+\\)\",'', data)"
   ]
  },
  {
   "cell_type": "code",
   "execution_count": 77,
   "metadata": {},
   "outputs": [],
   "source": [
    "names=web_unmatched_data[\"First Names\"].apply(remove_extra_info_from_name)\n",
    "web_unmatched_data.loc[:,\"First Names\"] = names"
   ]
  },
  {
   "cell_type": "code",
   "execution_count": 78,
   "metadata": {},
   "outputs": [],
   "source": [
    "surnames=web_unmatched_data[\"Surname\"].apply(remove_extra_info_from_name)\n",
    "web_unmatched_data.loc[:,\"Surname\"] = surnames"
   ]
  },
  {
   "cell_type": "markdown",
   "metadata": {},
   "source": [
    "The full name is extracted from the data taken from the website, which did not have a match."
   ]
  },
  {
   "cell_type": "code",
   "execution_count": 79,
   "metadata": {},
   "outputs": [],
   "source": [
    "name_column=\"First Names\"\n",
    "web_unmatched_data[\"Name\"]=web_unmatched_data.apply \\\n",
    "                                              (get_full_name\n",
    "                                              ,axis=\"columns\"\n",
    "                                              ,surname_column=surname_column\n",
    "                                              ,first_name_column=name_column)"
   ]
  },
  {
   "cell_type": "markdown",
   "metadata": {},
   "source": [
    "It is matched based on the occurrences of the full name word set of the website data present in the CSV data."
   ]
  },
  {
   "cell_type": "code",
   "execution_count": 80,
   "metadata": {},
   "outputs": [],
   "source": [
    "reg_ex= re.compile(r'[^\\w\\s]')\n",
    "def get_if_name_is_similar(person_name_website, person_name_csv):\n",
    " person_name_website = reg_ex.sub( '', person_name_website).split()\n",
    " person_name_csv = reg_ex.sub('', person_name_csv).split()\n",
    " intersection_set=set(person_name_website).intersection(person_name_csv)\n",
    " return len(intersection_set)==len(person_name_website)\n",
    "\n",
    "def has_same_lastname(lastname_person1,last_name_person2):\n",
    " return lastname_person1==last_name_person2\n",
    "\n",
    "def has_similar_name(row):\n",
    " return ( has_same_lastname(row[\"Surname_x\"],row[\"Surname_y\"])\n",
    " and get_if_name_is_similar(row[\"Name_x\"],row[\"Name_y\"]) )\n",
    "\n",
    "data_unmatched_csv['key'] = 1\n",
    "web_unmatched_data['key'] = 1\n",
    "matched_data_second_form = pd.merge(web_unmatched_data\n",
    "                                    , data_unmatched_csv\n",
    "                                    , on='key')"
   ]
  },
  {
   "cell_type": "code",
   "execution_count": 81,
   "metadata": {},
   "outputs": [],
   "source": [
    "matched_data_second_form['is_a_match'] = matched_data_second_form.apply(has_similar_name\n",
    "                                                            ,axis=\"columns\")\n",
    "matched_data_second_form.drop(\"key\",axis=\"columns\",inplace=True)"
   ]
  },
  {
   "cell_type": "code",
   "execution_count": 82,
   "metadata": {},
   "outputs": [],
   "source": [
    "is_a_match=matched_data_second_form[\"is_a_match\"]\n",
    "matched_data_second_form=matched_data_second_form[is_a_match]\n",
    "matched_data_second_form.reset_index(drop=True,inplace=True)"
   ]
  },
  {
   "cell_type": "code",
   "execution_count": 83,
   "metadata": {},
   "outputs": [
    {
     "data": {
      "text/plain": [
       "(252, 14)"
      ]
     },
     "execution_count": 83,
     "metadata": {},
     "output_type": "execute_result"
    }
   ],
   "source": [
    "matched_data_second_form.shape"
   ]
  },
  {
   "cell_type": "code",
   "execution_count": 84,
   "metadata": {},
   "outputs": [
    {
     "data": {
      "text/html": [
       "<div>\n",
       "<style scoped>\n",
       "    .dataframe tbody tr th:only-of-type {\n",
       "        vertical-align: middle;\n",
       "    }\n",
       "\n",
       "    .dataframe tbody tr th {\n",
       "        vertical-align: top;\n",
       "    }\n",
       "\n",
       "    .dataframe thead th {\n",
       "        text-align: right;\n",
       "    }\n",
       "</style>\n",
       "<table border=\"1\" class=\"dataframe\">\n",
       "  <thead>\n",
       "    <tr style=\"text-align: right;\">\n",
       "      <th></th>\n",
       "      <th>Surname_x</th>\n",
       "      <th>First Names</th>\n",
       "      <th>Age_x</th>\n",
       "      <th>Pclass</th>\n",
       "      <th>Name_x</th>\n",
       "      <th>Survived</th>\n",
       "      <th>Name_y</th>\n",
       "      <th>Sex</th>\n",
       "      <th>Age_y</th>\n",
       "      <th>SibSp</th>\n",
       "      <th>Parch</th>\n",
       "      <th>Embarked</th>\n",
       "      <th>Surname_y</th>\n",
       "      <th>is_a_match</th>\n",
       "    </tr>\n",
       "  </thead>\n",
       "  <tbody>\n",
       "    <tr>\n",
       "      <th>0</th>\n",
       "      <td>anderson</td>\n",
       "      <td>mr harry</td>\n",
       "      <td>47.0</td>\n",
       "      <td>1</td>\n",
       "      <td>anderson, mr harry</td>\n",
       "      <td>1</td>\n",
       "      <td>anderson, mr. harry</td>\n",
       "      <td>male</td>\n",
       "      <td>48.0</td>\n",
       "      <td>0</td>\n",
       "      <td>0</td>\n",
       "      <td>S</td>\n",
       "      <td>anderson</td>\n",
       "      <td>True</td>\n",
       "    </tr>\n",
       "    <tr>\n",
       "      <th>1</th>\n",
       "      <td>andrews</td>\n",
       "      <td>miss kornelia theodosia</td>\n",
       "      <td>62.0</td>\n",
       "      <td>1</td>\n",
       "      <td>andrews, miss kornelia theodosia</td>\n",
       "      <td>1</td>\n",
       "      <td>andrews, miss. kornelia theodosia</td>\n",
       "      <td>female</td>\n",
       "      <td>63.0</td>\n",
       "      <td>1</td>\n",
       "      <td>0</td>\n",
       "      <td>S</td>\n",
       "      <td>andrews</td>\n",
       "      <td>True</td>\n",
       "    </tr>\n",
       "    <tr>\n",
       "      <th>2</th>\n",
       "      <td>barkworth</td>\n",
       "      <td>mr algernon henry</td>\n",
       "      <td>47.0</td>\n",
       "      <td>1</td>\n",
       "      <td>barkworth, mr algernon henry</td>\n",
       "      <td>1</td>\n",
       "      <td>barkworth, mr. algernon henry wilson</td>\n",
       "      <td>male</td>\n",
       "      <td>80.0</td>\n",
       "      <td>0</td>\n",
       "      <td>0</td>\n",
       "      <td>S</td>\n",
       "      <td>barkworth</td>\n",
       "      <td>True</td>\n",
       "    </tr>\n",
       "    <tr>\n",
       "      <th>3</th>\n",
       "      <td>baumann</td>\n",
       "      <td>mr john d.</td>\n",
       "      <td>60.0</td>\n",
       "      <td>1</td>\n",
       "      <td>baumann, mr john d.</td>\n",
       "      <td>0</td>\n",
       "      <td>baumann, mr. john d</td>\n",
       "      <td>male</td>\n",
       "      <td>NaN</td>\n",
       "      <td>0</td>\n",
       "      <td>0</td>\n",
       "      <td>S</td>\n",
       "      <td>baumann</td>\n",
       "      <td>True</td>\n",
       "    </tr>\n",
       "    <tr>\n",
       "      <th>4</th>\n",
       "      <td>beckwith</td>\n",
       "      <td>mrs sallie</td>\n",
       "      <td>46.0</td>\n",
       "      <td>1</td>\n",
       "      <td>beckwith, mrs sallie</td>\n",
       "      <td>1</td>\n",
       "      <td>beckwith, mrs. richard leonard (sallie monypeny)</td>\n",
       "      <td>female</td>\n",
       "      <td>47.0</td>\n",
       "      <td>1</td>\n",
       "      <td>1</td>\n",
       "      <td>S</td>\n",
       "      <td>beckwith</td>\n",
       "      <td>True</td>\n",
       "    </tr>\n",
       "  </tbody>\n",
       "</table>\n",
       "</div>"
      ],
      "text/plain": [
       "   Surname_x              First Names  Age_x  Pclass  \\\n",
       "0   anderson                 mr harry   47.0       1   \n",
       "1    andrews  miss kornelia theodosia   62.0       1   \n",
       "2  barkworth        mr algernon henry   47.0       1   \n",
       "3    baumann               mr john d.   60.0       1   \n",
       "4   beckwith               mrs sallie   46.0       1   \n",
       "\n",
       "                             Name_x  Survived  \\\n",
       "0                anderson, mr harry         1   \n",
       "1  andrews, miss kornelia theodosia         1   \n",
       "2      barkworth, mr algernon henry         1   \n",
       "3               baumann, mr john d.         0   \n",
       "4              beckwith, mrs sallie         1   \n",
       "\n",
       "                                             Name_y     Sex  Age_y  SibSp  \\\n",
       "0                               anderson, mr. harry    male   48.0      0   \n",
       "1                 andrews, miss. kornelia theodosia  female   63.0      1   \n",
       "2              barkworth, mr. algernon henry wilson    male   80.0      0   \n",
       "3                               baumann, mr. john d    male    NaN      0   \n",
       "4  beckwith, mrs. richard leonard (sallie monypeny)  female   47.0      1   \n",
       "\n",
       "   Parch Embarked  Surname_y  is_a_match  \n",
       "0      0        S   anderson        True  \n",
       "1      0        S    andrews        True  \n",
       "2      0        S  barkworth        True  \n",
       "3      0        S    baumann        True  \n",
       "4      1        S   beckwith        True  "
      ]
     },
     "execution_count": 84,
     "metadata": {},
     "output_type": "execute_result"
    }
   ],
   "source": [
    "matched_data_second_form.head()"
   ]
  },
  {
   "cell_type": "code",
   "execution_count": 85,
   "metadata": {},
   "outputs": [],
   "source": [
    "matched_data_second_form.rename(columns={\"Surname_y\":\"Surname\",\"Name_y\":\"Name\"},inplace=True)"
   ]
  },
  {
   "cell_type": "markdown",
   "metadata": {},
   "source": [
    "Some age data is in the csv and some is in the website, so we have to choose one."
   ]
  },
  {
   "cell_type": "code",
   "execution_count": 86,
   "metadata": {},
   "outputs": [],
   "source": [
    "def get_the_ages(row):\n",
    " return row[\"Age_y\"] if not pd.isna(row[\"Age_y\"]) else row[\"Age_x\"]\n",
    "\n",
    "matched_data_second_form.loc[:,\"Age\"]=matched_data_second_form.apply(get_the_ages ,axis=\"columns\")"
   ]
  },
  {
   "cell_type": "code",
   "execution_count": 87,
   "metadata": {},
   "outputs": [
    {
     "name": "stdout",
     "output_type": "stream",
     "text": [
      "<class 'pandas.core.frame.DataFrame'>\n",
      "RangeIndex: 252 entries, 0 to 251\n",
      "Data columns (total 15 columns):\n",
      " #   Column       Non-Null Count  Dtype  \n",
      "---  ------       --------------  -----  \n",
      " 0   Surname_x    252 non-null    object \n",
      " 1   First Names  252 non-null    object \n",
      " 2   Age_x        250 non-null    float64\n",
      " 3   Pclass       252 non-null    int64  \n",
      " 4   Name_x       252 non-null    object \n",
      " 5   Survived     252 non-null    int64  \n",
      " 6   Name         252 non-null    object \n",
      " 7   Sex          252 non-null    object \n",
      " 8   Age_y        139 non-null    float64\n",
      " 9   SibSp        252 non-null    int64  \n",
      " 10  Parch        252 non-null    int64  \n",
      " 11  Embarked     252 non-null    object \n",
      " 12  Surname      252 non-null    object \n",
      " 13  is_a_match   252 non-null    bool   \n",
      " 14  Age          250 non-null    float64\n",
      "dtypes: bool(1), float64(3), int64(4), object(7)\n",
      "memory usage: 27.9+ KB\n"
     ]
    }
   ],
   "source": [
    "matched_data_second_form.info()"
   ]
  },
  {
   "cell_type": "code",
   "execution_count": 88,
   "metadata": {},
   "outputs": [
    {
     "data": {
      "text/html": [
       "<div>\n",
       "<style scoped>\n",
       "    .dataframe tbody tr th:only-of-type {\n",
       "        vertical-align: middle;\n",
       "    }\n",
       "\n",
       "    .dataframe tbody tr th {\n",
       "        vertical-align: top;\n",
       "    }\n",
       "\n",
       "    .dataframe thead th {\n",
       "        text-align: right;\n",
       "    }\n",
       "</style>\n",
       "<table border=\"1\" class=\"dataframe\">\n",
       "  <thead>\n",
       "    <tr style=\"text-align: right;\">\n",
       "      <th></th>\n",
       "      <th>Surname</th>\n",
       "      <th>First Names</th>\n",
       "      <th>Age</th>\n",
       "      <th>Pclass</th>\n",
       "      <th>Survived</th>\n",
       "      <th>Name</th>\n",
       "      <th>Sex</th>\n",
       "      <th>SibSp</th>\n",
       "      <th>Parch</th>\n",
       "      <th>Embarked</th>\n",
       "    </tr>\n",
       "  </thead>\n",
       "  <tbody>\n",
       "    <tr>\n",
       "      <th>0</th>\n",
       "      <td>allen</td>\n",
       "      <td>miss elisabeth walton</td>\n",
       "      <td>29.00</td>\n",
       "      <td>1</td>\n",
       "      <td>1</td>\n",
       "      <td>allen, miss. elisabeth walton</td>\n",
       "      <td>female</td>\n",
       "      <td>0</td>\n",
       "      <td>0</td>\n",
       "      <td>S</td>\n",
       "    </tr>\n",
       "    <tr>\n",
       "      <th>1</th>\n",
       "      <td>allison</td>\n",
       "      <td>mrs bessie waldo</td>\n",
       "      <td>25.00</td>\n",
       "      <td>1</td>\n",
       "      <td>0</td>\n",
       "      <td>allison, mrs. hudson j c (bessie waldo daniels)</td>\n",
       "      <td>female</td>\n",
       "      <td>1</td>\n",
       "      <td>2</td>\n",
       "      <td>S</td>\n",
       "    </tr>\n",
       "    <tr>\n",
       "      <th>2</th>\n",
       "      <td>allison</td>\n",
       "      <td>miss helen loraine</td>\n",
       "      <td>2.00</td>\n",
       "      <td>1</td>\n",
       "      <td>0</td>\n",
       "      <td>allison, miss. helen loraine</td>\n",
       "      <td>female</td>\n",
       "      <td>1</td>\n",
       "      <td>2</td>\n",
       "      <td>S</td>\n",
       "    </tr>\n",
       "    <tr>\n",
       "      <th>3</th>\n",
       "      <td>allison</td>\n",
       "      <td>master hudson trevor</td>\n",
       "      <td>0.92</td>\n",
       "      <td>1</td>\n",
       "      <td>1</td>\n",
       "      <td>allison, master. hudson trevor</td>\n",
       "      <td>male</td>\n",
       "      <td>1</td>\n",
       "      <td>2</td>\n",
       "      <td>S</td>\n",
       "    </tr>\n",
       "    <tr>\n",
       "      <th>4</th>\n",
       "      <td>andrews</td>\n",
       "      <td>mr thomas</td>\n",
       "      <td>39.00</td>\n",
       "      <td>1</td>\n",
       "      <td>0</td>\n",
       "      <td>andrews, mr. thomas jr</td>\n",
       "      <td>male</td>\n",
       "      <td>0</td>\n",
       "      <td>0</td>\n",
       "      <td>S</td>\n",
       "    </tr>\n",
       "  </tbody>\n",
       "</table>\n",
       "</div>"
      ],
      "text/plain": [
       "   Surname            First Names    Age  Pclass  Survived  \\\n",
       "0    allen  miss elisabeth walton  29.00       1         1   \n",
       "1  allison       mrs bessie waldo  25.00       1         0   \n",
       "2  allison     miss helen loraine   2.00       1         0   \n",
       "3  allison   master hudson trevor   0.92       1         1   \n",
       "4  andrews              mr thomas  39.00       1         0   \n",
       "\n",
       "                                              Name     Sex  SibSp  Parch  \\\n",
       "0                    allen, miss. elisabeth walton  female      0      0   \n",
       "1  allison, mrs. hudson j c (bessie waldo daniels)  female      1      2   \n",
       "2                     allison, miss. helen loraine  female      1      2   \n",
       "3                   allison, master. hudson trevor    male      1      2   \n",
       "4                           andrews, mr. thomas jr    male      0      0   \n",
       "\n",
       "  Embarked  \n",
       "0        S  \n",
       "1        S  \n",
       "2        S  \n",
       "3        S  \n",
       "4        S  "
      ]
     },
     "execution_count": 88,
     "metadata": {},
     "output_type": "execute_result"
    }
   ],
   "source": [
    "match_first_form.head()"
   ]
  },
  {
   "cell_type": "code",
   "execution_count": 89,
   "metadata": {},
   "outputs": [
    {
     "data": {
      "text/html": [
       "<div>\n",
       "<style scoped>\n",
       "    .dataframe tbody tr th:only-of-type {\n",
       "        vertical-align: middle;\n",
       "    }\n",
       "\n",
       "    .dataframe tbody tr th {\n",
       "        vertical-align: top;\n",
       "    }\n",
       "\n",
       "    .dataframe thead th {\n",
       "        text-align: right;\n",
       "    }\n",
       "</style>\n",
       "<table border=\"1\" class=\"dataframe\">\n",
       "  <thead>\n",
       "    <tr style=\"text-align: right;\">\n",
       "      <th></th>\n",
       "      <th>Surname_x</th>\n",
       "      <th>First Names</th>\n",
       "      <th>Age_x</th>\n",
       "      <th>Pclass</th>\n",
       "      <th>Name_x</th>\n",
       "      <th>Survived</th>\n",
       "      <th>Name</th>\n",
       "      <th>Sex</th>\n",
       "      <th>Age_y</th>\n",
       "      <th>SibSp</th>\n",
       "      <th>Parch</th>\n",
       "      <th>Embarked</th>\n",
       "      <th>Surname</th>\n",
       "      <th>is_a_match</th>\n",
       "      <th>Age</th>\n",
       "    </tr>\n",
       "  </thead>\n",
       "  <tbody>\n",
       "    <tr>\n",
       "      <th>0</th>\n",
       "      <td>anderson</td>\n",
       "      <td>mr harry</td>\n",
       "      <td>47.0</td>\n",
       "      <td>1</td>\n",
       "      <td>anderson, mr harry</td>\n",
       "      <td>1</td>\n",
       "      <td>anderson, mr. harry</td>\n",
       "      <td>male</td>\n",
       "      <td>48.0</td>\n",
       "      <td>0</td>\n",
       "      <td>0</td>\n",
       "      <td>S</td>\n",
       "      <td>anderson</td>\n",
       "      <td>True</td>\n",
       "      <td>48.0</td>\n",
       "    </tr>\n",
       "    <tr>\n",
       "      <th>1</th>\n",
       "      <td>andrews</td>\n",
       "      <td>miss kornelia theodosia</td>\n",
       "      <td>62.0</td>\n",
       "      <td>1</td>\n",
       "      <td>andrews, miss kornelia theodosia</td>\n",
       "      <td>1</td>\n",
       "      <td>andrews, miss. kornelia theodosia</td>\n",
       "      <td>female</td>\n",
       "      <td>63.0</td>\n",
       "      <td>1</td>\n",
       "      <td>0</td>\n",
       "      <td>S</td>\n",
       "      <td>andrews</td>\n",
       "      <td>True</td>\n",
       "      <td>63.0</td>\n",
       "    </tr>\n",
       "    <tr>\n",
       "      <th>2</th>\n",
       "      <td>barkworth</td>\n",
       "      <td>mr algernon henry</td>\n",
       "      <td>47.0</td>\n",
       "      <td>1</td>\n",
       "      <td>barkworth, mr algernon henry</td>\n",
       "      <td>1</td>\n",
       "      <td>barkworth, mr. algernon henry wilson</td>\n",
       "      <td>male</td>\n",
       "      <td>80.0</td>\n",
       "      <td>0</td>\n",
       "      <td>0</td>\n",
       "      <td>S</td>\n",
       "      <td>barkworth</td>\n",
       "      <td>True</td>\n",
       "      <td>80.0</td>\n",
       "    </tr>\n",
       "    <tr>\n",
       "      <th>3</th>\n",
       "      <td>baumann</td>\n",
       "      <td>mr john d.</td>\n",
       "      <td>60.0</td>\n",
       "      <td>1</td>\n",
       "      <td>baumann, mr john d.</td>\n",
       "      <td>0</td>\n",
       "      <td>baumann, mr. john d</td>\n",
       "      <td>male</td>\n",
       "      <td>NaN</td>\n",
       "      <td>0</td>\n",
       "      <td>0</td>\n",
       "      <td>S</td>\n",
       "      <td>baumann</td>\n",
       "      <td>True</td>\n",
       "      <td>60.0</td>\n",
       "    </tr>\n",
       "    <tr>\n",
       "      <th>4</th>\n",
       "      <td>beckwith</td>\n",
       "      <td>mrs sallie</td>\n",
       "      <td>46.0</td>\n",
       "      <td>1</td>\n",
       "      <td>beckwith, mrs sallie</td>\n",
       "      <td>1</td>\n",
       "      <td>beckwith, mrs. richard leonard (sallie monypeny)</td>\n",
       "      <td>female</td>\n",
       "      <td>47.0</td>\n",
       "      <td>1</td>\n",
       "      <td>1</td>\n",
       "      <td>S</td>\n",
       "      <td>beckwith</td>\n",
       "      <td>True</td>\n",
       "      <td>47.0</td>\n",
       "    </tr>\n",
       "  </tbody>\n",
       "</table>\n",
       "</div>"
      ],
      "text/plain": [
       "   Surname_x              First Names  Age_x  Pclass  \\\n",
       "0   anderson                 mr harry   47.0       1   \n",
       "1    andrews  miss kornelia theodosia   62.0       1   \n",
       "2  barkworth        mr algernon henry   47.0       1   \n",
       "3    baumann               mr john d.   60.0       1   \n",
       "4   beckwith               mrs sallie   46.0       1   \n",
       "\n",
       "                             Name_x  Survived  \\\n",
       "0                anderson, mr harry         1   \n",
       "1  andrews, miss kornelia theodosia         1   \n",
       "2      barkworth, mr algernon henry         1   \n",
       "3               baumann, mr john d.         0   \n",
       "4              beckwith, mrs sallie         1   \n",
       "\n",
       "                                               Name     Sex  Age_y  SibSp  \\\n",
       "0                               anderson, mr. harry    male   48.0      0   \n",
       "1                 andrews, miss. kornelia theodosia  female   63.0      1   \n",
       "2              barkworth, mr. algernon henry wilson    male   80.0      0   \n",
       "3                               baumann, mr. john d    male    NaN      0   \n",
       "4  beckwith, mrs. richard leonard (sallie monypeny)  female   47.0      1   \n",
       "\n",
       "   Parch Embarked    Surname  is_a_match   Age  \n",
       "0      0        S   anderson        True  48.0  \n",
       "1      0        S    andrews        True  63.0  \n",
       "2      0        S  barkworth        True  80.0  \n",
       "3      0        S    baumann        True  60.0  \n",
       "4      1        S   beckwith        True  47.0  "
      ]
     },
     "execution_count": 89,
     "metadata": {},
     "output_type": "execute_result"
    }
   ],
   "source": [
    "matched_data_second_form.head()"
   ]
  },
  {
   "cell_type": "code",
   "execution_count": 90,
   "metadata": {},
   "outputs": [],
   "source": [
    "matched_data_second_form=matched_data_second_form[\n",
    "                                match_first_form.columns]"
   ]
  },
  {
   "cell_type": "markdown",
   "metadata": {},
   "source": [
    "The data from the two forms of pairing are joined."
   ]
  },
  {
   "cell_type": "code",
   "execution_count": 91,
   "metadata": {},
   "outputs": [],
   "source": [
    "matched_data=pd.concat([matched_data_second_form,match_first_form])\n",
    "matched_data.dropna(subset=[\"Age\"],inplace=True)\n",
    "matched_data.reset_index(drop=True,inplace=True)"
   ]
  },
  {
   "cell_type": "code",
   "execution_count": 92,
   "metadata": {},
   "outputs": [
    {
     "name": "stdout",
     "output_type": "stream",
     "text": [
      "<class 'pandas.core.frame.DataFrame'>\n",
      "RangeIndex: 731 entries, 0 to 730\n",
      "Data columns (total 10 columns):\n",
      " #   Column       Non-Null Count  Dtype  \n",
      "---  ------       --------------  -----  \n",
      " 0   Surname      731 non-null    object \n",
      " 1   First Names  731 non-null    object \n",
      " 2   Age          731 non-null    float64\n",
      " 3   Pclass       731 non-null    int64  \n",
      " 4   Survived     731 non-null    int64  \n",
      " 5   Name         731 non-null    object \n",
      " 6   Sex          731 non-null    object \n",
      " 7   SibSp        731 non-null    int64  \n",
      " 8   Parch        731 non-null    int64  \n",
      " 9   Embarked     730 non-null    object \n",
      "dtypes: float64(1), int64(4), object(5)\n",
      "memory usage: 57.2+ KB\n"
     ]
    }
   ],
   "source": [
    "matched_data.info()"
   ]
  }
 ],
 "metadata": {
  "kernelspec": {
   "display_name": "Python 3",
   "language": "python",
   "name": "python3"
  },
  "language_info": {
   "codemirror_mode": {
    "name": "ipython",
    "version": 3
   },
   "file_extension": ".py",
   "mimetype": "text/x-python",
   "name": "python",
   "nbconvert_exporter": "python",
   "pygments_lexer": "ipython3",
   "version": "3.11.9"
  }
 },
 "nbformat": 4,
 "nbformat_minor": 2
}
